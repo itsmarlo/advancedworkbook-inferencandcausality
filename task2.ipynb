{
 "cells": [
  {
   "cell_type": "code",
   "execution_count": null,
   "id": "e574feae",
   "metadata": {},
   "outputs": [],
   "source": [
    "import numpy as np\n",
    "import pandas as pd\n",
    "import seaborn as sns\n",
    "import matplotlib.pyplot as plt\n",
    "import statsmodels.api as sm\n",
    "\n",
    "np.random.seed(42)\n",
    "\n",
    "# Step 1: Simulate latent variable - User Interest (U)\n",
    "n = 1000\n",
    "U = np.random.normal(0, 1, n)  # user interest\n",
    "\n",
    "# Step 2: Simulate Posting Frequency (A) influenced by User Interest\n",
    "A = 0.7 * U + np.random.normal(0, 1, n)\n",
    "\n",
    "# Step 3: Simulate Platform Boost (C) based on Posting Frequency\n",
    "C = 0.6 * A + np.random.normal(0, 1, n)\n",
    "\n",
    "# Step 4: Simulate Engagement (B) influenced by both User Interest and Boost\n",
    "B = 0.5 * U + 0.7 * C + np.random.normal(0, 1, n)\n",
    "\n",
    "# Build DataFrame\n",
    "df = pd.DataFrame({\n",
    "    \"UserInterest\": U,\n",
    "    \"PostingFrequency\": A,\n",
    "    \"PlatformBoost\": C,\n",
    "    \"Engagement\": B\n",
    "})\n",
    "\n",
    "# Step 5: Correlation matrix\n",
    "print(\"Correlation matrix:\\n\", df.corr())\n",
    "\n",
    "# Step 6: Regression without controlling for UserInterest (U) - potentially confounded\n",
    "X1 = sm.add_constant(df[\"PostingFrequency\"])\n",
    "model1 = sm.OLS(df[\"Engagement\"], X1).fit()\n",
    "print(\"\\nRegression without controlling for User Interest:\")\n",
    "print(model1.summary())\n",
    "\n",
    "# Step 7: Regression controlling for UserInterest (U) - backdoor path blocked\n",
    "X2 = sm.add_constant(df[[\"PostingFrequency\", \"UserInterest\"]])\n",
    "model2 = sm.OLS(df[\"Engagement\"], X2).fit()\n",
    "print(\"\\nRegression controlling for User Interest:\")\n",
    "print(model2.summary())\n"
   ]
  }
 ],
 "metadata": {
  "language_info": {
   "name": "python"
  }
 },
 "nbformat": 4,
 "nbformat_minor": 5
}
