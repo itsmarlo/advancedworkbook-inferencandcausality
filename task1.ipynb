{
 "cells": [
  {
   "cell_type": "code",
   "execution_count": null,
   "metadata": {
    "vscode": {
     "languageId": "plaintext"
    }
   },
   "outputs": [],
   "source": [
    "import numpy as np\n",
    "import matplotlib.pyplot as plt\n",
    "from scipy.stats import norm\n",
    "\n",
    "# Observed data: Daily temperatures (°C) from the past 5 days\n",
    "# Assume we're estimating the average temperature of a city\n",
    "observed_temps = np.array([15, 16, 14, 17, 15])\n",
    "n = len(observed_temps)\n",
    "mean_sample = np.mean(observed_temps)\n",
    "variance = 4  # Known variance (assumed for simplicity)\n",
    "\n",
    "# Define two priors\n",
    "prior_weak = (10, 5)   # N(10, 5^2) - Weak prior (wide belief about temperature)\n",
    "prior_strong = (18, 2)  # N(18, 2^2) - Strong prior (belief that it should be around 18°C)\n",
    "\n",
    "# Compute posteriors (Normal-Normal Conjugate Update)\n",
    "posterior_weak_mean = (prior_weak[1]**2 * mean_sample + variance * prior_weak[0]) / (prior_weak[1]**2 + variance/n)\n",
    "posterior_weak_var = (prior_weak[1]**2 * variance) / (prior_weak[1]**2 + variance/n)\n",
    "\n",
    "posterior_strong_mean = (prior_strong[1]**2 * mean_sample + variance * prior_strong[0]) / (prior_strong[1]**2 + variance/n)\n",
    "posterior_strong_var = (prior_strong[1]**2 * variance) / (prior_strong[1]**2 + variance/n)\n",
    "\n",
    "# Define probability values for plotting\n",
    "x = np.linspace(5, 25, 1000)\n",
    "\n",
    "# Plot priors and posteriors\n",
    "fig, axes = plt.subplots(1, 2, figsize=(12, 5))\n",
    "\n",
    "# Prior distributions\n",
    "axes[0].plot(x, norm.pdf(x, *prior_weak), 'b-', label='Weak Prior N(10,5^2)')\n",
    "axes[0].plot(x, norm.pdf(x, *prior_strong), 'r-', label='Strong Prior N(18,2^2)')\n",
    "axes[0].set_title('Prior Distributions')\n",
    "axes[0].legend()\n",
    "\n",
    "# Posterior distributions\n",
    "axes[1].plot(x, norm.pdf(x, posterior_weak_mean, np.sqrt(posterior_weak_var)), 'b-', label='Posterior with Weak Prior')\n",
    "axes[1].plot(x, norm.pdf(x, posterior_strong_mean, np.sqrt(posterior_strong_var)), 'r-', label='Posterior with Strong Prior')\n",
    "axes[1].set_title('Posterior Distributions')\n",
    "axes[1].legend()\n",
    "\n",
    "plt.show()\n",
    "\n",
    "# Explanation\n",
    "print(\"Observed Temperature Mean:\", round(mean_sample, 2))\n",
    "print(\"Posterior Mean with Weak Prior:\", round(posterior_weak_mean, 2))\n",
    "print(\"Posterior Mean with Strong Prior:\", round(posterior_strong_mean, 2))\n",
    "print(\"Notice how the strong prior (18°C) pulls the posterior estimate higher, whereas the weak prior allows the data to dominate.\")\n"
   ]
  }
 ],
 "metadata": {
  "language_info": {
   "name": "python"
  }
 },
 "nbformat": 4,
 "nbformat_minor": 2
}
